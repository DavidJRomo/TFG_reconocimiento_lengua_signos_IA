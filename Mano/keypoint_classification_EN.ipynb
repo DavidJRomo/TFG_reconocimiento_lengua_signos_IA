{
  "cells": [
    {
      "cell_type": "code",
      "execution_count": 34,
      "metadata": {
        "id": "igMyGnjE9hEp"
      },
      "outputs": [],
      "source": [
        "import csv\n",
        "\n",
        "import numpy as np\n",
        "import tensorflow as tf\n",
        "from sklearn.model_selection import train_test_split\n",
        "\n",
        "RANDOM_SEED = 42"
      ]
    },
    {
      "attachments": {},
      "cell_type": "markdown",
      "metadata": {
        "id": "t2HDvhIu9hEr"
      },
      "source": [
        "# Specify each path"
      ]
    },
    {
      "cell_type": "code",
      "execution_count": 35,
      "metadata": {
        "id": "9NvZP2Zn9hEy"
      },
      "outputs": [],
      "source": [
        "dataset = 'model/keypoint_classifier/keypoint_LSE.csv'\n",
        "model_save_path = 'model/keypoint_classifier/keypoint_classifier.hdf5'\n",
        "tflite_save_path = 'model/keypoint_classifier/keypoint_classifier.tflite'"
      ]
    },
    {
      "attachments": {},
      "cell_type": "markdown",
      "metadata": {
        "id": "s5oMH7x19hEz"
      },
      "source": [
        "# Set number of classes"
      ]
    },
    {
      "cell_type": "code",
      "execution_count": 36,
      "metadata": {
        "id": "du4kodXL9hEz"
      },
      "outputs": [],
      "source": [
        "NUM_CLASSES = 5"
      ]
    },
    {
      "attachments": {},
      "cell_type": "markdown",
      "metadata": {
        "id": "XjnL0uso9hEz"
      },
      "source": [
        "# Dataset reading"
      ]
    },
    {
      "cell_type": "code",
      "execution_count": 37,
      "metadata": {
        "id": "QT5ZqtEz9hE0"
      },
      "outputs": [],
      "source": [
        "X_dataset = np.loadtxt(dataset, delimiter=',', dtype='float32', usecols=list(range(1, (21 * 2) + 1)))"
      ]
    },
    {
      "cell_type": "code",
      "execution_count": 38,
      "metadata": {
        "id": "QmoKFsp49hE0"
      },
      "outputs": [],
      "source": [
        "y_dataset = np.loadtxt(dataset, delimiter=',', dtype='int32', usecols=(0))"
      ]
    },
    {
      "cell_type": "code",
      "execution_count": 39,
      "metadata": {
        "id": "xQU7JTZ_9hE0"
      },
      "outputs": [],
      "source": [
        "X_train, X_test, y_train, y_test = train_test_split(X_dataset, y_dataset, train_size=0.75, random_state=RANDOM_SEED)"
      ]
    },
    {
      "attachments": {},
      "cell_type": "markdown",
      "metadata": {
        "id": "mxK_lETT9hE0"
      },
      "source": [
        "# Model building"
      ]
    },
    {
      "cell_type": "code",
      "execution_count": 40,
      "metadata": {
        "id": "vHBmUf1t9hE1"
      },
      "outputs": [],
      "source": [
        "model = tf.keras.models.Sequential([\n",
        "    tf.keras.layers.Input((21 * 2, )),\n",
        "    tf.keras.layers.Dropout(0.2),\n",
        "    tf.keras.layers.Dense(20, activation='relu'),\n",
        "    tf.keras.layers.Dropout(0.4),\n",
        "    tf.keras.layers.Dense(10, activation='relu'),\n",
        "    tf.keras.layers.Dense(NUM_CLASSES, activation='softmax')\n",
        "])"
      ]
    },
    {
      "cell_type": "code",
      "execution_count": 41,
      "metadata": {
        "colab": {
          "base_uri": "https://localhost:8080/"
        },
        "id": "ypqky9tc9hE1",
        "outputId": "5db082bb-30e3-4110-bf63-a1ee777ecd46"
      },
      "outputs": [
        {
          "name": "stdout",
          "output_type": "stream",
          "text": [
            "Model: \"sequential_2\"\n",
            "_________________________________________________________________\n",
            " Layer (type)                Output Shape              Param #   \n",
            "=================================================================\n",
            " dropout_4 (Dropout)         (None, 42)                0         \n",
            "                                                                 \n",
            " dense_6 (Dense)             (None, 20)                860       \n",
            "                                                                 \n",
            " dropout_5 (Dropout)         (None, 20)                0         \n",
            "                                                                 \n",
            " dense_7 (Dense)             (None, 10)                210       \n",
            "                                                                 \n",
            " dense_8 (Dense)             (None, 5)                 55        \n",
            "                                                                 \n",
            "=================================================================\n",
            "Total params: 1,125\n",
            "Trainable params: 1,125\n",
            "Non-trainable params: 0\n",
            "_________________________________________________________________\n"
          ]
        }
      ],
      "source": [
        "model.summary()  # tf.keras.utils.plot_model(model, show_shapes=True)"
      ]
    },
    {
      "cell_type": "code",
      "execution_count": 42,
      "metadata": {
        "id": "MbMjOflQ9hE1"
      },
      "outputs": [],
      "source": [
        "# Model checkpoint callback\n",
        "cp_callback = tf.keras.callbacks.ModelCheckpoint(\n",
        "    model_save_path, verbose=1, save_weights_only=False)\n",
        "# Callback for early stopping\n",
        "es_callback = tf.keras.callbacks.EarlyStopping(patience=20, verbose=1)"
      ]
    },
    {
      "cell_type": "code",
      "execution_count": 43,
      "metadata": {
        "id": "c3Dac0M_9hE2"
      },
      "outputs": [],
      "source": [
        "# Model compilation\n",
        "model.compile(\n",
        "    optimizer='adam',\n",
        "    loss='sparse_categorical_crossentropy',\n",
        "    metrics=['accuracy']\n",
        ")"
      ]
    },
    {
      "attachments": {},
      "cell_type": "markdown",
      "metadata": {
        "id": "7XI0j1Iu9hE2"
      },
      "source": [
        "# Model training"
      ]
    },
    {
      "cell_type": "code",
      "execution_count": 44,
      "metadata": {
        "colab": {
          "base_uri": "https://localhost:8080/"
        },
        "id": "WirBl-JE9hE3",
        "outputId": "71b30ca2-8294-4d9d-8aa2-800d90d399de",
        "scrolled": true
      },
      "outputs": [
        {
          "name": "stdout",
          "output_type": "stream",
          "text": [
            "Epoch 1/1000\n",
            " 91/100 [==========================>...] - ETA: 0s - loss: 1.4067 - accuracy: 0.3526\n",
            "Epoch 1: saving model to model/keypoint_classifier\\keypoint_dibujar.hdf5\n",
            "100/100 [==============================] - 1s 3ms/step - loss: 1.3954 - accuracy: 0.3622 - val_loss: 1.1662 - val_accuracy: 0.6548\n",
            "Epoch 2/1000\n",
            " 94/100 [===========================>..] - ETA: 0s - loss: 1.1112 - accuracy: 0.5478\n",
            "Epoch 2: saving model to model/keypoint_classifier\\keypoint_dibujar.hdf5\n",
            "100/100 [==============================] - 0s 2ms/step - loss: 1.1052 - accuracy: 0.5492 - val_loss: 0.8117 - val_accuracy: 0.8367\n",
            "Epoch 3/1000\n",
            " 94/100 [===========================>..] - ETA: 0s - loss: 0.8912 - accuracy: 0.6542\n",
            "Epoch 3: saving model to model/keypoint_classifier\\keypoint_dibujar.hdf5\n",
            "100/100 [==============================] - 0s 2ms/step - loss: 0.8855 - accuracy: 0.6560 - val_loss: 0.5340 - val_accuracy: 0.9593\n",
            "Epoch 4/1000\n",
            " 92/100 [==========================>...] - ETA: 0s - loss: 0.7459 - accuracy: 0.7136\n",
            "Epoch 4: saving model to model/keypoint_classifier\\keypoint_dibujar.hdf5\n",
            "100/100 [==============================] - 0s 2ms/step - loss: 0.7420 - accuracy: 0.7149 - val_loss: 0.3704 - val_accuracy: 0.9650\n",
            "Epoch 5/1000\n",
            " 92/100 [==========================>...] - ETA: 0s - loss: 0.6555 - accuracy: 0.7537\n",
            "Epoch 5: saving model to model/keypoint_classifier\\keypoint_dibujar.hdf5\n",
            "100/100 [==============================] - 0s 2ms/step - loss: 0.6501 - accuracy: 0.7558 - val_loss: 0.2789 - val_accuracy: 0.9706\n",
            "Epoch 6/1000\n",
            " 95/100 [===========================>..] - ETA: 0s - loss: 0.5971 - accuracy: 0.7785\n",
            "Epoch 6: saving model to model/keypoint_classifier\\keypoint_dibujar.hdf5\n",
            "100/100 [==============================] - 0s 2ms/step - loss: 0.5968 - accuracy: 0.7786 - val_loss: 0.2246 - val_accuracy: 0.9828\n",
            "Epoch 7/1000\n",
            " 90/100 [==========================>...] - ETA: 0s - loss: 0.5642 - accuracy: 0.7905\n",
            "Epoch 7: saving model to model/keypoint_classifier\\keypoint_dibujar.hdf5\n",
            "100/100 [==============================] - 0s 2ms/step - loss: 0.5606 - accuracy: 0.7913 - val_loss: 0.1945 - val_accuracy: 0.9838\n",
            "Epoch 8/1000\n",
            " 96/100 [===========================>..] - ETA: 0s - loss: 0.5315 - accuracy: 0.8044\n",
            "Epoch 8: saving model to model/keypoint_classifier\\keypoint_dibujar.hdf5\n",
            "100/100 [==============================] - 0s 2ms/step - loss: 0.5301 - accuracy: 0.8058 - val_loss: 0.1792 - val_accuracy: 0.9833\n",
            "Epoch 9/1000\n",
            " 95/100 [===========================>..] - ETA: 0s - loss: 0.4893 - accuracy: 0.8212\n",
            "Epoch 9: saving model to model/keypoint_classifier\\keypoint_dibujar.hdf5\n",
            "100/100 [==============================] - 0s 2ms/step - loss: 0.4862 - accuracy: 0.8217 - val_loss: 0.1617 - val_accuracy: 0.9840\n",
            "Epoch 10/1000\n",
            " 94/100 [===========================>..] - ETA: 0s - loss: 0.4658 - accuracy: 0.8248\n",
            "Epoch 10: saving model to model/keypoint_classifier\\keypoint_dibujar.hdf5\n",
            "100/100 [==============================] - 0s 2ms/step - loss: 0.4631 - accuracy: 0.8254 - val_loss: 0.1519 - val_accuracy: 0.9840\n",
            "Epoch 11/1000\n",
            " 94/100 [===========================>..] - ETA: 0s - loss: 0.4537 - accuracy: 0.8350\n",
            "Epoch 11: saving model to model/keypoint_classifier\\keypoint_dibujar.hdf5\n",
            "100/100 [==============================] - 0s 2ms/step - loss: 0.4520 - accuracy: 0.8356 - val_loss: 0.1393 - val_accuracy: 0.9821\n",
            "Epoch 12/1000\n",
            " 96/100 [===========================>..] - ETA: 0s - loss: 0.4273 - accuracy: 0.8417\n",
            "Epoch 12: saving model to model/keypoint_classifier\\keypoint_dibujar.hdf5\n",
            "100/100 [==============================] - 0s 2ms/step - loss: 0.4253 - accuracy: 0.8430 - val_loss: 0.1309 - val_accuracy: 0.9819\n",
            "Epoch 13/1000\n",
            " 93/100 [==========================>...] - ETA: 0s - loss: 0.4199 - accuracy: 0.8427\n",
            "Epoch 13: saving model to model/keypoint_classifier\\keypoint_dibujar.hdf5\n",
            "100/100 [==============================] - 0s 2ms/step - loss: 0.4175 - accuracy: 0.8449 - val_loss: 0.1290 - val_accuracy: 0.9857\n",
            "Epoch 14/1000\n",
            " 94/100 [===========================>..] - ETA: 0s - loss: 0.3995 - accuracy: 0.8541\n",
            "Epoch 14: saving model to model/keypoint_classifier\\keypoint_dibujar.hdf5\n",
            "100/100 [==============================] - 0s 2ms/step - loss: 0.4001 - accuracy: 0.8535 - val_loss: 0.1291 - val_accuracy: 0.9796\n",
            "Epoch 15/1000\n",
            " 93/100 [==========================>...] - ETA: 0s - loss: 0.3928 - accuracy: 0.8561\n",
            "Epoch 15: saving model to model/keypoint_classifier\\keypoint_dibujar.hdf5\n",
            "100/100 [==============================] - 0s 2ms/step - loss: 0.3933 - accuracy: 0.8558 - val_loss: 0.1234 - val_accuracy: 0.9803\n",
            "Epoch 16/1000\n",
            " 93/100 [==========================>...] - ETA: 0s - loss: 0.3865 - accuracy: 0.8585\n",
            "Epoch 16: saving model to model/keypoint_classifier\\keypoint_dibujar.hdf5\n",
            "100/100 [==============================] - 0s 2ms/step - loss: 0.3856 - accuracy: 0.8583 - val_loss: 0.1135 - val_accuracy: 0.9866\n",
            "Epoch 17/1000\n",
            " 95/100 [===========================>..] - ETA: 0s - loss: 0.3720 - accuracy: 0.8649\n",
            "Epoch 17: saving model to model/keypoint_classifier\\keypoint_dibujar.hdf5\n",
            "100/100 [==============================] - 0s 2ms/step - loss: 0.3712 - accuracy: 0.8656 - val_loss: 0.1129 - val_accuracy: 0.9810\n",
            "Epoch 18/1000\n",
            " 96/100 [===========================>..] - ETA: 0s - loss: 0.3595 - accuracy: 0.8656\n",
            "Epoch 18: saving model to model/keypoint_classifier\\keypoint_dibujar.hdf5\n",
            "100/100 [==============================] - 0s 2ms/step - loss: 0.3607 - accuracy: 0.8649 - val_loss: 0.1080 - val_accuracy: 0.9784\n",
            "Epoch 19/1000\n",
            " 97/100 [============================>.] - ETA: 0s - loss: 0.3617 - accuracy: 0.8655\n",
            "Epoch 19: saving model to model/keypoint_classifier\\keypoint_dibujar.hdf5\n",
            "100/100 [==============================] - 0s 2ms/step - loss: 0.3608 - accuracy: 0.8664 - val_loss: 0.1043 - val_accuracy: 0.9824\n",
            "Epoch 20/1000\n",
            " 94/100 [===========================>..] - ETA: 0s - loss: 0.3425 - accuracy: 0.8759\n",
            "Epoch 20: saving model to model/keypoint_classifier\\keypoint_dibujar.hdf5\n",
            "100/100 [==============================] - 0s 2ms/step - loss: 0.3419 - accuracy: 0.8754 - val_loss: 0.0978 - val_accuracy: 0.9772\n",
            "Epoch 21/1000\n",
            " 95/100 [===========================>..] - ETA: 0s - loss: 0.3355 - accuracy: 0.8769\n",
            "Epoch 21: saving model to model/keypoint_classifier\\keypoint_dibujar.hdf5\n",
            "100/100 [==============================] - 0s 2ms/step - loss: 0.3345 - accuracy: 0.8777 - val_loss: 0.1010 - val_accuracy: 0.9770\n",
            "Epoch 22/1000\n",
            " 94/100 [===========================>..] - ETA: 0s - loss: 0.3365 - accuracy: 0.8776\n",
            "Epoch 22: saving model to model/keypoint_classifier\\keypoint_dibujar.hdf5\n",
            "100/100 [==============================] - 0s 2ms/step - loss: 0.3372 - accuracy: 0.8767 - val_loss: 0.0988 - val_accuracy: 0.9786\n",
            "Epoch 23/1000\n",
            " 96/100 [===========================>..] - ETA: 0s - loss: 0.3283 - accuracy: 0.8797\n",
            "Epoch 23: saving model to model/keypoint_classifier\\keypoint_dibujar.hdf5\n",
            "100/100 [==============================] - 0s 2ms/step - loss: 0.3276 - accuracy: 0.8797 - val_loss: 0.0961 - val_accuracy: 0.9767\n",
            "Epoch 24/1000\n",
            " 95/100 [===========================>..] - ETA: 0s - loss: 0.3294 - accuracy: 0.8799\n",
            "Epoch 24: saving model to model/keypoint_classifier\\keypoint_dibujar.hdf5\n",
            "100/100 [==============================] - 0s 2ms/step - loss: 0.3288 - accuracy: 0.8807 - val_loss: 0.1040 - val_accuracy: 0.9810\n",
            "Epoch 25/1000\n",
            " 94/100 [===========================>..] - ETA: 0s - loss: 0.3282 - accuracy: 0.8819\n",
            "Epoch 25: saving model to model/keypoint_classifier\\keypoint_dibujar.hdf5\n",
            "100/100 [==============================] - 0s 2ms/step - loss: 0.3291 - accuracy: 0.8820 - val_loss: 0.0986 - val_accuracy: 0.9828\n",
            "Epoch 26/1000\n",
            " 94/100 [===========================>..] - ETA: 0s - loss: 0.3177 - accuracy: 0.8853\n",
            "Epoch 26: saving model to model/keypoint_classifier\\keypoint_dibujar.hdf5\n",
            "100/100 [==============================] - 0s 2ms/step - loss: 0.3172 - accuracy: 0.8857 - val_loss: 0.0956 - val_accuracy: 0.9784\n",
            "Epoch 27/1000\n",
            " 68/100 [===================>..........] - ETA: 0s - loss: 0.3064 - accuracy: 0.8942\n",
            "Epoch 27: saving model to model/keypoint_classifier\\keypoint_dibujar.hdf5\n",
            "100/100 [==============================] - 0s 2ms/step - loss: 0.3101 - accuracy: 0.8919 - val_loss: 0.0934 - val_accuracy: 0.9800\n",
            "Epoch 28/1000\n",
            " 85/100 [========================>.....] - ETA: 0s - loss: 0.3105 - accuracy: 0.8858\n",
            "Epoch 28: saving model to model/keypoint_classifier\\keypoint_dibujar.hdf5\n",
            "100/100 [==============================] - 0s 2ms/step - loss: 0.3040 - accuracy: 0.8874 - val_loss: 0.0887 - val_accuracy: 0.9807\n",
            "Epoch 29/1000\n",
            " 93/100 [==========================>...] - ETA: 0s - loss: 0.3010 - accuracy: 0.8926\n",
            "Epoch 29: saving model to model/keypoint_classifier\\keypoint_dibujar.hdf5\n",
            "100/100 [==============================] - 0s 2ms/step - loss: 0.3010 - accuracy: 0.8927 - val_loss: 0.0892 - val_accuracy: 0.9840\n",
            "Epoch 30/1000\n",
            " 87/100 [=========================>....] - ETA: 0s - loss: 0.2930 - accuracy: 0.8933\n",
            "Epoch 30: saving model to model/keypoint_classifier\\keypoint_dibujar.hdf5\n",
            "100/100 [==============================] - 0s 2ms/step - loss: 0.2960 - accuracy: 0.8929 - val_loss: 0.0974 - val_accuracy: 0.9749\n",
            "Epoch 31/1000\n",
            " 94/100 [===========================>..] - ETA: 0s - loss: 0.2966 - accuracy: 0.8924\n",
            "Epoch 31: saving model to model/keypoint_classifier\\keypoint_dibujar.hdf5\n",
            "100/100 [==============================] - 0s 2ms/step - loss: 0.2967 - accuracy: 0.8929 - val_loss: 0.0978 - val_accuracy: 0.9758\n",
            "Epoch 32/1000\n",
            " 97/100 [============================>.] - ETA: 0s - loss: 0.2857 - accuracy: 0.9000\n",
            "Epoch 32: saving model to model/keypoint_classifier\\keypoint_dibujar.hdf5\n",
            "100/100 [==============================] - 0s 2ms/step - loss: 0.2876 - accuracy: 0.8992 - val_loss: 0.0857 - val_accuracy: 0.9777\n",
            "Epoch 33/1000\n",
            " 94/100 [===========================>..] - ETA: 0s - loss: 0.2944 - accuracy: 0.8937\n",
            "Epoch 33: saving model to model/keypoint_classifier\\keypoint_dibujar.hdf5\n",
            "100/100 [==============================] - 0s 2ms/step - loss: 0.2942 - accuracy: 0.8940 - val_loss: 0.0925 - val_accuracy: 0.9744\n",
            "Epoch 34/1000\n",
            " 74/100 [=====================>........] - ETA: 0s - loss: 0.2840 - accuracy: 0.8948\n",
            "Epoch 34: saving model to model/keypoint_classifier\\keypoint_dibujar.hdf5\n",
            "100/100 [==============================] - 0s 2ms/step - loss: 0.2859 - accuracy: 0.8954 - val_loss: 0.0911 - val_accuracy: 0.9741\n",
            "Epoch 35/1000\n",
            " 82/100 [=======================>......] - ETA: 0s - loss: 0.2709 - accuracy: 0.9018\n",
            "Epoch 35: saving model to model/keypoint_classifier\\keypoint_dibujar.hdf5\n",
            "100/100 [==============================] - 0s 2ms/step - loss: 0.2737 - accuracy: 0.9017 - val_loss: 0.0878 - val_accuracy: 0.9781\n",
            "Epoch 36/1000\n",
            " 95/100 [===========================>..] - ETA: 0s - loss: 0.2871 - accuracy: 0.8950\n",
            "Epoch 36: saving model to model/keypoint_classifier\\keypoint_dibujar.hdf5\n",
            "100/100 [==============================] - 0s 2ms/step - loss: 0.2871 - accuracy: 0.8957 - val_loss: 0.0863 - val_accuracy: 0.9756\n",
            "Epoch 37/1000\n",
            " 95/100 [===========================>..] - ETA: 0s - loss: 0.2729 - accuracy: 0.9042\n",
            "Epoch 37: saving model to model/keypoint_classifier\\keypoint_dibujar.hdf5\n",
            "100/100 [==============================] - 0s 2ms/step - loss: 0.2713 - accuracy: 0.9046 - val_loss: 0.0871 - val_accuracy: 0.9746\n",
            "Epoch 38/1000\n",
            " 96/100 [===========================>..] - ETA: 0s - loss: 0.2683 - accuracy: 0.9058\n",
            "Epoch 38: saving model to model/keypoint_classifier\\keypoint_dibujar.hdf5\n",
            "100/100 [==============================] - 0s 2ms/step - loss: 0.2694 - accuracy: 0.9055 - val_loss: 0.0891 - val_accuracy: 0.9732\n",
            "Epoch 39/1000\n",
            " 94/100 [===========================>..] - ETA: 0s - loss: 0.2779 - accuracy: 0.9023\n",
            "Epoch 39: saving model to model/keypoint_classifier\\keypoint_dibujar.hdf5\n",
            "100/100 [==============================] - 0s 2ms/step - loss: 0.2778 - accuracy: 0.9023 - val_loss: 0.0928 - val_accuracy: 0.9725\n",
            "Epoch 40/1000\n",
            " 93/100 [==========================>...] - ETA: 0s - loss: 0.2691 - accuracy: 0.9047\n",
            "Epoch 40: saving model to model/keypoint_classifier\\keypoint_dibujar.hdf5\n",
            "100/100 [==============================] - 0s 2ms/step - loss: 0.2693 - accuracy: 0.9053 - val_loss: 0.0898 - val_accuracy: 0.9737\n",
            "Epoch 41/1000\n",
            " 94/100 [===========================>..] - ETA: 0s - loss: 0.2639 - accuracy: 0.9091\n",
            "Epoch 41: saving model to model/keypoint_classifier\\keypoint_dibujar.hdf5\n",
            "100/100 [==============================] - 0s 2ms/step - loss: 0.2628 - accuracy: 0.9093 - val_loss: 0.0883 - val_accuracy: 0.9727\n",
            "Epoch 42/1000\n",
            " 94/100 [===========================>..] - ETA: 0s - loss: 0.2616 - accuracy: 0.9086\n",
            "Epoch 42: saving model to model/keypoint_classifier\\keypoint_dibujar.hdf5\n",
            "100/100 [==============================] - 0s 2ms/step - loss: 0.2617 - accuracy: 0.9082 - val_loss: 0.0930 - val_accuracy: 0.9699\n",
            "Epoch 43/1000\n",
            " 95/100 [===========================>..] - ETA: 0s - loss: 0.2770 - accuracy: 0.9025\n",
            "Epoch 43: saving model to model/keypoint_classifier\\keypoint_dibujar.hdf5\n",
            "100/100 [==============================] - 0s 2ms/step - loss: 0.2741 - accuracy: 0.9039 - val_loss: 0.0903 - val_accuracy: 0.9725\n",
            "Epoch 44/1000\n",
            " 95/100 [===========================>..] - ETA: 0s - loss: 0.2612 - accuracy: 0.9083\n",
            "Epoch 44: saving model to model/keypoint_classifier\\keypoint_dibujar.hdf5\n",
            "100/100 [==============================] - 0s 2ms/step - loss: 0.2616 - accuracy: 0.9079 - val_loss: 0.0872 - val_accuracy: 0.9737\n",
            "Epoch 45/1000\n",
            " 96/100 [===========================>..] - ETA: 0s - loss: 0.2639 - accuracy: 0.9065\n",
            "Epoch 45: saving model to model/keypoint_classifier\\keypoint_dibujar.hdf5\n",
            "100/100 [==============================] - 0s 2ms/step - loss: 0.2643 - accuracy: 0.9062 - val_loss: 0.0888 - val_accuracy: 0.9749\n",
            "Epoch 46/1000\n",
            " 93/100 [==========================>...] - ETA: 0s - loss: 0.2670 - accuracy: 0.9061\n",
            "Epoch 46: saving model to model/keypoint_classifier\\keypoint_dibujar.hdf5\n",
            "100/100 [==============================] - 0s 2ms/step - loss: 0.2650 - accuracy: 0.9068 - val_loss: 0.0860 - val_accuracy: 0.9739\n",
            "Epoch 47/1000\n",
            " 91/100 [==========================>...] - ETA: 0s - loss: 0.2550 - accuracy: 0.9090\n",
            "Epoch 47: saving model to model/keypoint_classifier\\keypoint_dibujar.hdf5\n",
            "100/100 [==============================] - 0s 2ms/step - loss: 0.2560 - accuracy: 0.9090 - val_loss: 0.0853 - val_accuracy: 0.9749\n",
            "Epoch 48/1000\n",
            " 97/100 [============================>.] - ETA: 0s - loss: 0.2487 - accuracy: 0.9122\n",
            "Epoch 48: saving model to model/keypoint_classifier\\keypoint_dibujar.hdf5\n",
            "100/100 [==============================] - 0s 2ms/step - loss: 0.2494 - accuracy: 0.9122 - val_loss: 0.0893 - val_accuracy: 0.9737\n",
            "Epoch 49/1000\n",
            " 71/100 [====================>.........] - ETA: 0s - loss: 0.2612 - accuracy: 0.9097\n",
            "Epoch 49: saving model to model/keypoint_classifier\\keypoint_dibujar.hdf5\n",
            "100/100 [==============================] - 0s 2ms/step - loss: 0.2613 - accuracy: 0.9100 - val_loss: 0.0873 - val_accuracy: 0.9732\n",
            "Epoch 50/1000\n",
            " 96/100 [===========================>..] - ETA: 0s - loss: 0.2577 - accuracy: 0.9092\n",
            "Epoch 50: saving model to model/keypoint_classifier\\keypoint_dibujar.hdf5\n",
            "100/100 [==============================] - 0s 2ms/step - loss: 0.2586 - accuracy: 0.9084 - val_loss: 0.0868 - val_accuracy: 0.9758\n",
            "Epoch 51/1000\n",
            " 93/100 [==========================>...] - ETA: 0s - loss: 0.2525 - accuracy: 0.9130\n",
            "Epoch 51: saving model to model/keypoint_classifier\\keypoint_dibujar.hdf5\n",
            "100/100 [==============================] - 0s 2ms/step - loss: 0.2523 - accuracy: 0.9126 - val_loss: 0.0905 - val_accuracy: 0.9687\n",
            "Epoch 52/1000\n",
            " 95/100 [===========================>..] - ETA: 0s - loss: 0.2585 - accuracy: 0.9118\n",
            "Epoch 52: saving model to model/keypoint_classifier\\keypoint_dibujar.hdf5\n",
            "100/100 [==============================] - 0s 2ms/step - loss: 0.2592 - accuracy: 0.9118 - val_loss: 0.0854 - val_accuracy: 0.9760\n",
            "Epoch 53/1000\n",
            " 94/100 [===========================>..] - ETA: 0s - loss: 0.2543 - accuracy: 0.9107\n",
            "Epoch 53: saving model to model/keypoint_classifier\\keypoint_dibujar.hdf5\n",
            "100/100 [==============================] - 0s 2ms/step - loss: 0.2522 - accuracy: 0.9109 - val_loss: 0.0890 - val_accuracy: 0.9697\n",
            "Epoch 54/1000\n",
            " 95/100 [===========================>..] - ETA: 0s - loss: 0.2495 - accuracy: 0.9134\n",
            "Epoch 54: saving model to model/keypoint_classifier\\keypoint_dibujar.hdf5\n",
            "100/100 [==============================] - 0s 2ms/step - loss: 0.2489 - accuracy: 0.9136 - val_loss: 0.0871 - val_accuracy: 0.9749\n",
            "Epoch 55/1000\n",
            " 95/100 [===========================>..] - ETA: 0s - loss: 0.2505 - accuracy: 0.9142\n",
            "Epoch 55: saving model to model/keypoint_classifier\\keypoint_dibujar.hdf5\n",
            "100/100 [==============================] - 0s 2ms/step - loss: 0.2495 - accuracy: 0.9144 - val_loss: 0.0867 - val_accuracy: 0.9774\n",
            "Epoch 56/1000\n",
            "100/100 [==============================] - ETA: 0s - loss: 0.2423 - accuracy: 0.9144\n",
            "Epoch 56: saving model to model/keypoint_classifier\\keypoint_dibujar.hdf5\n",
            "100/100 [==============================] - 0s 2ms/step - loss: 0.2423 - accuracy: 0.9144 - val_loss: 0.0863 - val_accuracy: 0.9709\n",
            "Epoch 57/1000\n",
            " 51/100 [==============>...............] - ETA: 0s - loss: 0.2495 - accuracy: 0.9141\n",
            "Epoch 57: saving model to model/keypoint_classifier\\keypoint_dibujar.hdf5\n",
            "100/100 [==============================] - 0s 2ms/step - loss: 0.2551 - accuracy: 0.9097 - val_loss: 0.0879 - val_accuracy: 0.9732\n",
            "Epoch 58/1000\n",
            " 98/100 [============================>.] - ETA: 0s - loss: 0.2385 - accuracy: 0.9194\n",
            "Epoch 58: saving model to model/keypoint_classifier\\keypoint_dibujar.hdf5\n",
            "100/100 [==============================] - 0s 2ms/step - loss: 0.2374 - accuracy: 0.9199 - val_loss: 0.0915 - val_accuracy: 0.9673\n",
            "Epoch 59/1000\n",
            " 51/100 [==============>...............] - ETA: 0s - loss: 0.2428 - accuracy: 0.9205\n",
            "Epoch 59: saving model to model/keypoint_classifier\\keypoint_dibujar.hdf5\n",
            "100/100 [==============================] - 0s 2ms/step - loss: 0.2434 - accuracy: 0.9175 - val_loss: 0.0925 - val_accuracy: 0.9666\n",
            "Epoch 60/1000\n",
            " 98/100 [============================>.] - ETA: 0s - loss: 0.2390 - accuracy: 0.9160\n",
            "Epoch 60: saving model to model/keypoint_classifier\\keypoint_dibujar.hdf5\n",
            "100/100 [==============================] - 0s 2ms/step - loss: 0.2391 - accuracy: 0.9159 - val_loss: 0.0813 - val_accuracy: 0.9744\n",
            "Epoch 61/1000\n",
            " 51/100 [==============>...............] - ETA: 0s - loss: 0.2523 - accuracy: 0.9110\n",
            "Epoch 61: saving model to model/keypoint_classifier\\keypoint_dibujar.hdf5\n",
            "100/100 [==============================] - 0s 2ms/step - loss: 0.2506 - accuracy: 0.9126 - val_loss: 0.0853 - val_accuracy: 0.9779\n",
            "Epoch 62/1000\n",
            " 98/100 [============================>.] - ETA: 0s - loss: 0.2468 - accuracy: 0.9167\n",
            "Epoch 62: saving model to model/keypoint_classifier\\keypoint_dibujar.hdf5\n",
            "100/100 [==============================] - 0s 2ms/step - loss: 0.2463 - accuracy: 0.9166 - val_loss: 0.0895 - val_accuracy: 0.9803\n",
            "Epoch 63/1000\n",
            " 98/100 [============================>.] - ETA: 0s - loss: 0.2439 - accuracy: 0.9167\n",
            "Epoch 63: saving model to model/keypoint_classifier\\keypoint_dibujar.hdf5\n",
            "100/100 [==============================] - 0s 2ms/step - loss: 0.2442 - accuracy: 0.9164 - val_loss: 0.0848 - val_accuracy: 0.9758\n",
            "Epoch 64/1000\n",
            " 93/100 [==========================>...] - ETA: 0s - loss: 0.2361 - accuracy: 0.9197\n",
            "Epoch 64: saving model to model/keypoint_classifier\\keypoint_dibujar.hdf5\n",
            "100/100 [==============================] - 0s 2ms/step - loss: 0.2353 - accuracy: 0.9200 - val_loss: 0.0813 - val_accuracy: 0.9786\n",
            "Epoch 65/1000\n",
            " 96/100 [===========================>..] - ETA: 0s - loss: 0.2323 - accuracy: 0.9187\n",
            "Epoch 65: saving model to model/keypoint_classifier\\keypoint_dibujar.hdf5\n",
            "100/100 [==============================] - 0s 2ms/step - loss: 0.2316 - accuracy: 0.9191 - val_loss: 0.0901 - val_accuracy: 0.9702\n",
            "Epoch 66/1000\n",
            " 99/100 [============================>.] - ETA: 0s - loss: 0.2466 - accuracy: 0.9151\n",
            "Epoch 66: saving model to model/keypoint_classifier\\keypoint_dibujar.hdf5\n",
            "100/100 [==============================] - 0s 2ms/step - loss: 0.2462 - accuracy: 0.9153 - val_loss: 0.0937 - val_accuracy: 0.9713\n",
            "Epoch 67/1000\n",
            " 51/100 [==============>...............] - ETA: 0s - loss: 0.2336 - accuracy: 0.9203\n",
            "Epoch 67: saving model to model/keypoint_classifier\\keypoint_dibujar.hdf5\n",
            "100/100 [==============================] - 0s 2ms/step - loss: 0.2348 - accuracy: 0.9183 - val_loss: 0.0849 - val_accuracy: 0.9713\n",
            "Epoch 68/1000\n",
            " 71/100 [====================>.........] - ETA: 0s - loss: 0.2407 - accuracy: 0.9152\n",
            "Epoch 68: saving model to model/keypoint_classifier\\keypoint_dibujar.hdf5\n",
            "100/100 [==============================] - 0s 2ms/step - loss: 0.2400 - accuracy: 0.9160 - val_loss: 0.0874 - val_accuracy: 0.9709\n",
            "Epoch 69/1000\n",
            "100/100 [==============================] - ETA: 0s - loss: 0.2357 - accuracy: 0.9202\n",
            "Epoch 69: saving model to model/keypoint_classifier\\keypoint_dibujar.hdf5\n",
            "100/100 [==============================] - 0s 2ms/step - loss: 0.2357 - accuracy: 0.9202 - val_loss: 0.0772 - val_accuracy: 0.9730\n",
            "Epoch 70/1000\n",
            " 51/100 [==============>...............] - ETA: 0s - loss: 0.2395 - accuracy: 0.9130\n",
            "Epoch 70: saving model to model/keypoint_classifier\\keypoint_dibujar.hdf5\n",
            "100/100 [==============================] - 0s 2ms/step - loss: 0.2433 - accuracy: 0.9150 - val_loss: 0.0901 - val_accuracy: 0.9741\n",
            "Epoch 71/1000\n",
            " 97/100 [============================>.] - ETA: 0s - loss: 0.2386 - accuracy: 0.9164\n",
            "Epoch 71: saving model to model/keypoint_classifier\\keypoint_dibujar.hdf5\n",
            "100/100 [==============================] - 0s 2ms/step - loss: 0.2381 - accuracy: 0.9165 - val_loss: 0.0924 - val_accuracy: 0.9718\n",
            "Epoch 72/1000\n",
            " 51/100 [==============>...............] - ETA: 0s - loss: 0.2296 - accuracy: 0.9205\n",
            "Epoch 72: saving model to model/keypoint_classifier\\keypoint_dibujar.hdf5\n",
            "100/100 [==============================] - 0s 2ms/step - loss: 0.2283 - accuracy: 0.9205 - val_loss: 0.0829 - val_accuracy: 0.9716\n",
            "Epoch 73/1000\n",
            " 99/100 [============================>.] - ETA: 0s - loss: 0.2307 - accuracy: 0.9217\n",
            "Epoch 73: saving model to model/keypoint_classifier\\keypoint_dibujar.hdf5\n",
            "100/100 [==============================] - 0s 2ms/step - loss: 0.2306 - accuracy: 0.9215 - val_loss: 0.0866 - val_accuracy: 0.9746\n",
            "Epoch 74/1000\n",
            " 96/100 [===========================>..] - ETA: 0s - loss: 0.2347 - accuracy: 0.9155\n",
            "Epoch 74: saving model to model/keypoint_classifier\\keypoint_dibujar.hdf5\n",
            "100/100 [==============================] - 0s 2ms/step - loss: 0.2349 - accuracy: 0.9155 - val_loss: 0.0949 - val_accuracy: 0.9680\n",
            "Epoch 75/1000\n",
            " 92/100 [==========================>...] - ETA: 0s - loss: 0.2331 - accuracy: 0.9198\n",
            "Epoch 75: saving model to model/keypoint_classifier\\keypoint_dibujar.hdf5\n",
            "100/100 [==============================] - 0s 2ms/step - loss: 0.2311 - accuracy: 0.9203 - val_loss: 0.0820 - val_accuracy: 0.9741\n",
            "Epoch 76/1000\n",
            " 99/100 [============================>.] - ETA: 0s - loss: 0.2450 - accuracy: 0.9148\n",
            "Epoch 76: saving model to model/keypoint_classifier\\keypoint_dibujar.hdf5\n",
            "100/100 [==============================] - 0s 2ms/step - loss: 0.2451 - accuracy: 0.9147 - val_loss: 0.0844 - val_accuracy: 0.9767\n",
            "Epoch 77/1000\n",
            "100/100 [==============================] - ETA: 0s - loss: 0.2276 - accuracy: 0.9198\n",
            "Epoch 77: saving model to model/keypoint_classifier\\keypoint_dibujar.hdf5\n",
            "100/100 [==============================] - 0s 2ms/step - loss: 0.2276 - accuracy: 0.9198 - val_loss: 0.0850 - val_accuracy: 0.9734\n",
            "Epoch 78/1000\n",
            " 52/100 [==============>...............] - ETA: 0s - loss: 0.2222 - accuracy: 0.9243\n",
            "Epoch 78: saving model to model/keypoint_classifier\\keypoint_dibujar.hdf5\n",
            "100/100 [==============================] - 0s 2ms/step - loss: 0.2289 - accuracy: 0.9200 - val_loss: 0.0847 - val_accuracy: 0.9772\n",
            "Epoch 79/1000\n",
            " 89/100 [=========================>....] - ETA: 0s - loss: 0.2301 - accuracy: 0.9196\n",
            "Epoch 79: saving model to model/keypoint_classifier\\keypoint_dibujar.hdf5\n",
            "100/100 [==============================] - 0s 2ms/step - loss: 0.2289 - accuracy: 0.9201 - val_loss: 0.0882 - val_accuracy: 0.9777\n",
            "Epoch 80/1000\n",
            " 99/100 [============================>.] - ETA: 0s - loss: 0.2313 - accuracy: 0.9195\n",
            "Epoch 80: saving model to model/keypoint_classifier\\keypoint_dibujar.hdf5\n",
            "100/100 [==============================] - 0s 2ms/step - loss: 0.2322 - accuracy: 0.9194 - val_loss: 0.0931 - val_accuracy: 0.9697\n",
            "Epoch 81/1000\n",
            "100/100 [==============================] - ETA: 0s - loss: 0.2299 - accuracy: 0.9202\n",
            "Epoch 81: saving model to model/keypoint_classifier\\keypoint_dibujar.hdf5\n",
            "100/100 [==============================] - 0s 2ms/step - loss: 0.2299 - accuracy: 0.9202 - val_loss: 0.0907 - val_accuracy: 0.9784\n",
            "Epoch 82/1000\n",
            " 51/100 [==============>...............] - ETA: 0s - loss: 0.2270 - accuracy: 0.9214\n",
            "Epoch 82: saving model to model/keypoint_classifier\\keypoint_dibujar.hdf5\n",
            "100/100 [==============================] - 0s 2ms/step - loss: 0.2220 - accuracy: 0.9227 - val_loss: 0.0876 - val_accuracy: 0.9723\n",
            "Epoch 83/1000\n",
            " 98/100 [============================>.] - ETA: 0s - loss: 0.2254 - accuracy: 0.9218\n",
            "Epoch 83: saving model to model/keypoint_classifier\\keypoint_dibujar.hdf5\n",
            "100/100 [==============================] - 0s 2ms/step - loss: 0.2247 - accuracy: 0.9220 - val_loss: 0.0875 - val_accuracy: 0.9725\n",
            "Epoch 84/1000\n",
            " 98/100 [============================>.] - ETA: 0s - loss: 0.2206 - accuracy: 0.9230\n",
            "Epoch 84: saving model to model/keypoint_classifier\\keypoint_dibujar.hdf5\n",
            "100/100 [==============================] - 0s 2ms/step - loss: 0.2213 - accuracy: 0.9228 - val_loss: 0.0829 - val_accuracy: 0.9796\n",
            "Epoch 85/1000\n",
            " 51/100 [==============>...............] - ETA: 0s - loss: 0.2279 - accuracy: 0.9168\n",
            "Epoch 85: saving model to model/keypoint_classifier\\keypoint_dibujar.hdf5\n",
            "100/100 [==============================] - 0s 2ms/step - loss: 0.2309 - accuracy: 0.9182 - val_loss: 0.0920 - val_accuracy: 0.9767\n",
            "Epoch 86/1000\n",
            " 76/100 [=====================>........] - ETA: 0s - loss: 0.2181 - accuracy: 0.9268\n",
            "Epoch 86: saving model to model/keypoint_classifier\\keypoint_dibujar.hdf5\n",
            "100/100 [==============================] - 0s 2ms/step - loss: 0.2210 - accuracy: 0.9250 - val_loss: 0.0920 - val_accuracy: 0.9753\n",
            "Epoch 87/1000\n",
            "100/100 [==============================] - ETA: 0s - loss: 0.2295 - accuracy: 0.9198\n",
            "Epoch 87: saving model to model/keypoint_classifier\\keypoint_dibujar.hdf5\n",
            "100/100 [==============================] - 0s 2ms/step - loss: 0.2295 - accuracy: 0.9198 - val_loss: 0.0892 - val_accuracy: 0.9749\n",
            "Epoch 88/1000\n",
            "100/100 [==============================] - ETA: 0s - loss: 0.2225 - accuracy: 0.9224\n",
            "Epoch 88: saving model to model/keypoint_classifier\\keypoint_dibujar.hdf5\n",
            "100/100 [==============================] - 0s 2ms/step - loss: 0.2225 - accuracy: 0.9224 - val_loss: 0.0837 - val_accuracy: 0.9774\n",
            "Epoch 89/1000\n",
            " 50/100 [==============>...............] - ETA: 0s - loss: 0.2234 - accuracy: 0.9198\n",
            "Epoch 89: saving model to model/keypoint_classifier\\keypoint_dibujar.hdf5\n",
            "100/100 [==============================] - 0s 2ms/step - loss: 0.2224 - accuracy: 0.9214 - val_loss: 0.0933 - val_accuracy: 0.9711\n",
            "Epoch 89: early stopping\n"
          ]
        },
        {
          "data": {
            "text/plain": [
              "<keras.callbacks.History at 0x1dca8004b80>"
            ]
          },
          "execution_count": 44,
          "metadata": {},
          "output_type": "execute_result"
        }
      ],
      "source": [
        "model.fit(\n",
        "    X_train,\n",
        "    y_train,\n",
        "    epochs=1000,\n",
        "    batch_size=128,\n",
        "    validation_data=(X_test, y_test),\n",
        "    callbacks=[cp_callback, es_callback]\n",
        ")"
      ]
    },
    {
      "cell_type": "code",
      "execution_count": 45,
      "metadata": {
        "colab": {
          "base_uri": "https://localhost:8080/"
        },
        "id": "pxvb2Y299hE3",
        "outputId": "59eb3185-2e37-4b9e-bc9d-ab1b8ac29b7f"
      },
      "outputs": [
        {
          "name": "stdout",
          "output_type": "stream",
          "text": [
            "34/34 [==============================] - 0s 907us/step - loss: 0.0933 - accuracy: 0.9711\n"
          ]
        }
      ],
      "source": [
        "# Model evaluation\n",
        "val_loss, val_acc = model.evaluate(X_test, y_test, batch_size=128)\n"
      ]
    },
    {
      "cell_type": "code",
      "execution_count": 46,
      "metadata": {
        "id": "RBkmDeUW9hE4"
      },
      "outputs": [],
      "source": [
        "# Loading the saved model\n",
        "model = tf.keras.models.load_model(model_save_path)"
      ]
    },
    {
      "cell_type": "code",
      "execution_count": 47,
      "metadata": {
        "colab": {
          "base_uri": "https://localhost:8080/"
        },
        "id": "tFz9Tb0I9hE4",
        "outputId": "1c3b3528-54ae-4ee2-ab04-77429211cbef"
      },
      "outputs": [
        {
          "name": "stdout",
          "output_type": "stream",
          "text": [
            "1/1 [==============================] - 0s 39ms/step\n",
            "[1.7705378e-06 9.3780559e-01 6.1069541e-02 1.4461331e-05 1.1086211e-03]\n",
            "1\n"
          ]
        }
      ],
      "source": [
        "# Inference test\n",
        "predict_result = model.predict(np.array([X_test[0]]))\n",
        "print(np.squeeze(predict_result))\n",
        "print(np.argmax(np.squeeze(predict_result)))"
      ]
    },
    {
      "attachments": {},
      "cell_type": "markdown",
      "metadata": {
        "id": "S3U4yNWx9hE4"
      },
      "source": [
        "# Confusion matrix"
      ]
    },
    {
      "cell_type": "code",
      "execution_count": 48,
      "metadata": {
        "colab": {
          "base_uri": "https://localhost:8080/",
          "height": 582
        },
        "id": "AP1V6SCk9hE5",
        "outputId": "08e41a80-7a4a-4619-8125-ecc371368d19"
      },
      "outputs": [
        {
          "name": "stdout",
          "output_type": "stream",
          "text": [
            "133/133 [==============================] - 0s 892us/step\n"
          ]
        },
        {
          "data": {
            "image/png": "[encoded data removed]",
            "text/plain": [
              "<Figure size 700x600 with 2 Axes>"
            ]
          },
          "metadata": {},
          "output_type": "display_data"
        },
        {
          "name": "stdout",
          "output_type": "stream",
          "text": [
            "Classification Report\n",
            "              precision    recall  f1-score   support\n",
            "\n",
            "           1       0.93      0.99      0.96      1461\n",
            "           2       0.99      0.94      0.96      1503\n",
            "           3       1.00      0.98      0.99       790\n",
            "           4       1.00      1.00      1.00       501\n",
            "\n",
            "    accuracy                           0.97      4255\n",
            "   macro avg       0.98      0.98      0.98      4255\n",
            "weighted avg       0.97      0.97      0.97      4255\n",
            "\n"
          ]
        }
      ],
      "source": [
        "import pandas as pd\n",
        "import seaborn as sns\n",
        "import matplotlib.pyplot as plt\n",
        "from sklearn.metrics import confusion_matrix, classification_report\n",
        "\n",
        "def print_confusion_matrix(y_true, y_pred, report=True):\n",
        "    labels = sorted(list(set(y_true)))\n",
        "    cmx_data = confusion_matrix(y_true, y_pred, labels=labels)\n",
        "    \n",
        "    df_cmx = pd.DataFrame(cmx_data, index=labels, columns=labels)\n",
        " \n",
        "    fig, ax = plt.subplots(figsize=(7, 6))\n",
        "    sns.heatmap(df_cmx, annot=True, fmt='g' ,square=False)\n",
        "    ax.set_ylim(len(set(y_true)), 0)\n",
        "    plt.show()\n",
        "    \n",
        "    if report:\n",
        "        print('Classification Report')\n",
        "        print(classification_report(y_test, y_pred))\n",
        "\n",
        "Y_pred = model.predict(X_test)\n",
        "y_pred = np.argmax(Y_pred, axis=1)\n",
        "\n",
        "print_confusion_matrix(y_test, y_pred)"
      ]
    },
    {
      "attachments": {},
      "cell_type": "markdown",
      "metadata": {
        "id": "FNP6aqzc9hE5"
      },
      "source": [
        "# Convert to model for Tensorflow-Lite"
      ]
    },
    {
      "cell_type": "code",
      "execution_count": 49,
      "metadata": {
        "id": "ODjnYyld9hE6"
      },
      "outputs": [],
      "source": [
        "# Save as a model dedicated to inference\n",
        "model.save(model_save_path, include_optimizer=False)"
      ]
    },
    {
      "cell_type": "code",
      "execution_count": 50,
      "metadata": {
        "colab": {
          "base_uri": "https://localhost:8080/"
        },
        "id": "zRfuK8Y59hE6",
        "outputId": "a4ca585c-b5d5-4244-8291-8674063209bb"
      },
      "outputs": [
        {
          "name": "stderr",
          "output_type": "stream",
          "text": [
            "WARNING:absl:Found untraced functions such as _update_step_xla while saving (showing 1 of 1). These functions will not be directly callable after loading.\n"
          ]
        },
        {
          "name": "stdout",
          "output_type": "stream",
          "text": [
            "INFO:tensorflow:Assets written to: C:\\Users\\david\\AppData\\Local\\Temp\\tmp203v1joa\\assets\n"
          ]
        },
        {
          "name": "stderr",
          "output_type": "stream",
          "text": [
            "INFO:tensorflow:Assets written to: C:\\Users\\david\\AppData\\Local\\Temp\\tmp203v1joa\\assets\n"
          ]
        },
        {
          "data": {
            "text/plain": [
              "6616"
            ]
          },
          "execution_count": 50,
          "metadata": {},
          "output_type": "execute_result"
        }
      ],
      "source": [
        "# Transform model (quantization)\n",
        "\n",
        "converter = tf.lite.TFLiteConverter.from_keras_model(model)\n",
        "converter.optimizations = [tf.lite.Optimize.DEFAULT]\n",
        "tflite_quantized_model = converter.convert()\n",
        "\n",
        "open(tflite_save_path, 'wb').write(tflite_quantized_model)"
      ]
    },
    {
      "attachments": {},
      "cell_type": "markdown",
      "metadata": {
        "id": "CHBPBXdx9hE6"
      },
      "source": [
        "# Inference test"
      ]
    },
    {
      "cell_type": "code",
      "execution_count": 51,
      "metadata": {
        "id": "mGAzLocO9hE7"
      },
      "outputs": [],
      "source": [
        "interpreter = tf.lite.Interpreter(model_path=tflite_save_path)\n",
        "interpreter.allocate_tensors()"
      ]
    },
    {
      "cell_type": "code",
      "execution_count": 52,
      "metadata": {
        "id": "oQuDK8YS9hE7"
      },
      "outputs": [],
      "source": [
        "# Get I / O tensor\n",
        "input_details = interpreter.get_input_details()\n",
        "output_details = interpreter.get_output_details()"
      ]
    },
    {
      "cell_type": "code",
      "execution_count": 53,
      "metadata": {
        "id": "2_ixAf_l9hE7"
      },
      "outputs": [],
      "source": [
        "interpreter.set_tensor(input_details[0]['index'], np.array([X_test[0]]))"
      ]
    },
    {
      "cell_type": "code",
      "execution_count": 54,
      "metadata": {
        "colab": {
          "base_uri": "https://localhost:8080/"
        },
        "id": "s4FoAnuc9hE7",
        "outputId": "91f18257-8d8b-4ef3-c558-e9b5f94fabbf",
        "scrolled": true
      },
      "outputs": [
        {
          "name": "stdout",
          "output_type": "stream",
          "text": [
            "CPU times: total: 0 ns\n",
            "Wall time: 0 ns\n"
          ]
        }
      ],
      "source": [
        "%%time\n",
        "# Inference implementation\n",
        "interpreter.invoke()\n",
        "tflite_results = interpreter.get_tensor(output_details[0]['index'])"
      ]
    }
  ],
  "metadata": {
    "accelerator": "GPU",
    "colab": {
      "collapsed_sections": [],
      "name": "keypoint_classification_EN.ipynb",
      "provenance": [],
      "toc_visible": true
    },
    "kernelspec": {
      "display_name": "Python 3",
      "language": "python",
      "name": "python3"
    },
    "language_info": {
      "codemirror_mode": {
        "name": "ipython",
        "version": 3
      },
      "file_extension": ".py",
      "mimetype": "text/x-python",
      "name": "python",
      "nbconvert_exporter": "python",
      "pygments_lexer": "ipython3",
      "version": "3.10.10"
    }
  },
  "nbformat": 4,
  "nbformat_minor": 0
}
